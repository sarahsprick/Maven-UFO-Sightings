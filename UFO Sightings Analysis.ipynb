{
 "cells": [
  {
   "cell_type": "code",
   "execution_count": 1,
   "id": "4e1e75df",
   "metadata": {},
   "outputs": [],
   "source": [
    "import numpy as np\n",
    "import pandas as pd"
   ]
  },
  {
   "cell_type": "markdown",
   "id": "c97f3053",
   "metadata": {},
   "source": [
    "# UFO Sightings Analysis\n",
    "\n",
    "This project explores the UFO Sightings dataset from Maven Analytic’s [Data Playground](https://www.mavenanalytics.io/data-playground). \n",
    "\n",
    "The dataset consists of 80,000+ rows of records each representing a UFO sighting from 1909 to 2014 and containing information about the city, state, country, coordinates, shape, duration, etc. "
   ]
  },
  {
   "cell_type": "markdown",
   "id": "42bc3368",
   "metadata": {},
   "source": [
    "## Data Loading"
   ]
  },
  {
   "cell_type": "code",
   "execution_count": 2,
   "id": "8c85efe2",
   "metadata": {},
   "outputs": [
    {
     "name": "stderr",
     "output_type": "stream",
     "text": [
      "C:\\Users\\chery\\AppData\\Local\\Temp\\ipykernel_15364\\759100750.py:1: DtypeWarning: Columns (5,9) have mixed types. Specify dtype option on import or set low_memory=False.\n",
      "  ufo = pd.read_csv('ufo_sightings_scrubbed.csv') # As-is from Maven Analytics\n"
     ]
    },
    {
     "data": {
      "text/html": [
       "<div>\n",
       "<style scoped>\n",
       "    .dataframe tbody tr th:only-of-type {\n",
       "        vertical-align: middle;\n",
       "    }\n",
       "\n",
       "    .dataframe tbody tr th {\n",
       "        vertical-align: top;\n",
       "    }\n",
       "\n",
       "    .dataframe thead th {\n",
       "        text-align: right;\n",
       "    }\n",
       "</style>\n",
       "<table border=\"1\" class=\"dataframe\">\n",
       "  <thead>\n",
       "    <tr style=\"text-align: right;\">\n",
       "      <th></th>\n",
       "      <th>datetime</th>\n",
       "      <th>city</th>\n",
       "      <th>state</th>\n",
       "      <th>country</th>\n",
       "      <th>shape</th>\n",
       "      <th>duration (seconds)</th>\n",
       "      <th>duration (hours/min)</th>\n",
       "      <th>comments</th>\n",
       "      <th>date posted</th>\n",
       "      <th>latitude</th>\n",
       "      <th>longitude</th>\n",
       "    </tr>\n",
       "  </thead>\n",
       "  <tbody>\n",
       "    <tr>\n",
       "      <th>0</th>\n",
       "      <td>1949-10-10 20:30:00</td>\n",
       "      <td>san marcos</td>\n",
       "      <td>tx</td>\n",
       "      <td>us</td>\n",
       "      <td>cylinder</td>\n",
       "      <td>2700</td>\n",
       "      <td>45 minutes</td>\n",
       "      <td>This event took place in early fall around 194...</td>\n",
       "      <td>2004-04-27</td>\n",
       "      <td>29.8830556</td>\n",
       "      <td>-97.941111</td>\n",
       "    </tr>\n",
       "    <tr>\n",
       "      <th>1</th>\n",
       "      <td>1949-10-10 21:00:00</td>\n",
       "      <td>lackland afb</td>\n",
       "      <td>tx</td>\n",
       "      <td>NaN</td>\n",
       "      <td>light</td>\n",
       "      <td>7200</td>\n",
       "      <td>1-2 hrs</td>\n",
       "      <td>1949 Lackland AFB&amp;#44 TX.  Lights racing acros...</td>\n",
       "      <td>2005-12-16</td>\n",
       "      <td>29.38421</td>\n",
       "      <td>-98.581082</td>\n",
       "    </tr>\n",
       "    <tr>\n",
       "      <th>2</th>\n",
       "      <td>1955-10-10 17:00:00</td>\n",
       "      <td>chester (uk/england)</td>\n",
       "      <td>NaN</td>\n",
       "      <td>gb</td>\n",
       "      <td>circle</td>\n",
       "      <td>20</td>\n",
       "      <td>20 seconds</td>\n",
       "      <td>Green/Orange circular disc over Chester&amp;#44 En...</td>\n",
       "      <td>2008-01-21</td>\n",
       "      <td>53.2</td>\n",
       "      <td>-2.916667</td>\n",
       "    </tr>\n",
       "    <tr>\n",
       "      <th>3</th>\n",
       "      <td>1956-10-10 21:00:00</td>\n",
       "      <td>edna</td>\n",
       "      <td>tx</td>\n",
       "      <td>us</td>\n",
       "      <td>circle</td>\n",
       "      <td>20</td>\n",
       "      <td>1/2 hour</td>\n",
       "      <td>My older brother and twin sister were leaving ...</td>\n",
       "      <td>2004-01-17</td>\n",
       "      <td>28.9783333</td>\n",
       "      <td>-96.645833</td>\n",
       "    </tr>\n",
       "    <tr>\n",
       "      <th>4</th>\n",
       "      <td>1960-10-10 20:00:00</td>\n",
       "      <td>kaneohe</td>\n",
       "      <td>hi</td>\n",
       "      <td>us</td>\n",
       "      <td>light</td>\n",
       "      <td>900</td>\n",
       "      <td>15 minutes</td>\n",
       "      <td>AS a Marine 1st Lt. flying an FJ4B fighter/att...</td>\n",
       "      <td>2004-01-22</td>\n",
       "      <td>21.4180556</td>\n",
       "      <td>-157.803611</td>\n",
       "    </tr>\n",
       "    <tr>\n",
       "      <th>...</th>\n",
       "      <td>...</td>\n",
       "      <td>...</td>\n",
       "      <td>...</td>\n",
       "      <td>...</td>\n",
       "      <td>...</td>\n",
       "      <td>...</td>\n",
       "      <td>...</td>\n",
       "      <td>...</td>\n",
       "      <td>...</td>\n",
       "      <td>...</td>\n",
       "      <td>...</td>\n",
       "    </tr>\n",
       "    <tr>\n",
       "      <th>80327</th>\n",
       "      <td>2013-09-09 21:15:00</td>\n",
       "      <td>nashville</td>\n",
       "      <td>tn</td>\n",
       "      <td>us</td>\n",
       "      <td>light</td>\n",
       "      <td>600.0</td>\n",
       "      <td>10 minutes</td>\n",
       "      <td>Round from the distance/slowly changing colors...</td>\n",
       "      <td>2013-09-30</td>\n",
       "      <td>36.165833</td>\n",
       "      <td>-86.784444</td>\n",
       "    </tr>\n",
       "    <tr>\n",
       "      <th>80328</th>\n",
       "      <td>2013-09-09 22:00:00</td>\n",
       "      <td>boise</td>\n",
       "      <td>id</td>\n",
       "      <td>us</td>\n",
       "      <td>circle</td>\n",
       "      <td>1200.0</td>\n",
       "      <td>20 minutes</td>\n",
       "      <td>Boise&amp;#44 ID&amp;#44 spherical&amp;#44 20 min&amp;#44 10 r...</td>\n",
       "      <td>2013-09-30</td>\n",
       "      <td>43.613611</td>\n",
       "      <td>-116.202500</td>\n",
       "    </tr>\n",
       "    <tr>\n",
       "      <th>80329</th>\n",
       "      <td>2013-09-09 22:00:00</td>\n",
       "      <td>napa</td>\n",
       "      <td>ca</td>\n",
       "      <td>us</td>\n",
       "      <td>other</td>\n",
       "      <td>1200.0</td>\n",
       "      <td>hour</td>\n",
       "      <td>Napa UFO&amp;#44</td>\n",
       "      <td>2013-09-30</td>\n",
       "      <td>38.297222</td>\n",
       "      <td>-122.284444</td>\n",
       "    </tr>\n",
       "    <tr>\n",
       "      <th>80330</th>\n",
       "      <td>2013-09-09 22:20:00</td>\n",
       "      <td>vienna</td>\n",
       "      <td>va</td>\n",
       "      <td>us</td>\n",
       "      <td>circle</td>\n",
       "      <td>5.0</td>\n",
       "      <td>5 seconds</td>\n",
       "      <td>Saw a five gold lit cicular craft moving fastl...</td>\n",
       "      <td>2013-09-30</td>\n",
       "      <td>38.901111</td>\n",
       "      <td>-77.265556</td>\n",
       "    </tr>\n",
       "    <tr>\n",
       "      <th>80331</th>\n",
       "      <td>2013-09-09 23:00:00</td>\n",
       "      <td>edmond</td>\n",
       "      <td>ok</td>\n",
       "      <td>us</td>\n",
       "      <td>cigar</td>\n",
       "      <td>1020.0</td>\n",
       "      <td>17 minutes</td>\n",
       "      <td>2 witnesses 2  miles apart&amp;#44 Red &amp;amp; White...</td>\n",
       "      <td>2013-09-30</td>\n",
       "      <td>35.652778</td>\n",
       "      <td>-97.477778</td>\n",
       "    </tr>\n",
       "  </tbody>\n",
       "</table>\n",
       "<p>80332 rows × 11 columns</p>\n",
       "</div>"
      ],
      "text/plain": [
       "                  datetime                  city state country     shape  \\\n",
       "0      1949-10-10 20:30:00            san marcos    tx      us  cylinder   \n",
       "1      1949-10-10 21:00:00          lackland afb    tx     NaN     light   \n",
       "2      1955-10-10 17:00:00  chester (uk/england)   NaN      gb    circle   \n",
       "3      1956-10-10 21:00:00                  edna    tx      us    circle   \n",
       "4      1960-10-10 20:00:00               kaneohe    hi      us     light   \n",
       "...                    ...                   ...   ...     ...       ...   \n",
       "80327  2013-09-09 21:15:00             nashville    tn      us     light   \n",
       "80328  2013-09-09 22:00:00                 boise    id      us    circle   \n",
       "80329  2013-09-09 22:00:00                  napa    ca      us     other   \n",
       "80330  2013-09-09 22:20:00                vienna    va      us    circle   \n",
       "80331  2013-09-09 23:00:00                edmond    ok      us     cigar   \n",
       "\n",
       "      duration (seconds) duration (hours/min)  \\\n",
       "0                   2700           45 minutes   \n",
       "1                   7200              1-2 hrs   \n",
       "2                     20           20 seconds   \n",
       "3                     20             1/2 hour   \n",
       "4                    900           15 minutes   \n",
       "...                  ...                  ...   \n",
       "80327              600.0           10 minutes   \n",
       "80328             1200.0           20 minutes   \n",
       "80329             1200.0                 hour   \n",
       "80330                5.0            5 seconds   \n",
       "80331             1020.0           17 minutes   \n",
       "\n",
       "                                                comments date posted  \\\n",
       "0      This event took place in early fall around 194...  2004-04-27   \n",
       "1      1949 Lackland AFB&#44 TX.  Lights racing acros...  2005-12-16   \n",
       "2      Green/Orange circular disc over Chester&#44 En...  2008-01-21   \n",
       "3      My older brother and twin sister were leaving ...  2004-01-17   \n",
       "4      AS a Marine 1st Lt. flying an FJ4B fighter/att...  2004-01-22   \n",
       "...                                                  ...         ...   \n",
       "80327  Round from the distance/slowly changing colors...  2013-09-30   \n",
       "80328  Boise&#44 ID&#44 spherical&#44 20 min&#44 10 r...  2013-09-30   \n",
       "80329                                       Napa UFO&#44  2013-09-30   \n",
       "80330  Saw a five gold lit cicular craft moving fastl...  2013-09-30   \n",
       "80331  2 witnesses 2  miles apart&#44 Red &amp; White...  2013-09-30   \n",
       "\n",
       "         latitude  longitude   \n",
       "0      29.8830556  -97.941111  \n",
       "1        29.38421  -98.581082  \n",
       "2            53.2   -2.916667  \n",
       "3      28.9783333  -96.645833  \n",
       "4      21.4180556 -157.803611  \n",
       "...           ...         ...  \n",
       "80327   36.165833  -86.784444  \n",
       "80328   43.613611 -116.202500  \n",
       "80329   38.297222 -122.284444  \n",
       "80330   38.901111  -77.265556  \n",
       "80331   35.652778  -97.477778  \n",
       "\n",
       "[80332 rows x 11 columns]"
      ]
     },
     "execution_count": 2,
     "metadata": {},
     "output_type": "execute_result"
    }
   ],
   "source": [
    "ufo = pd.read_csv('ufo_sightings_scrubbed.csv') # As-is from Maven Analytics\n",
    "\n",
    "ufo"
   ]
  },
  {
   "cell_type": "markdown",
   "id": "857d222b",
   "metadata": {},
   "source": [
    "## Data Cleaning & Transforming"
   ]
  },
  {
   "cell_type": "markdown",
   "id": "8e8523cc",
   "metadata": {},
   "source": [
    "Used a `for` loop to change the column names in each DataFrame to lowercase and snake case."
   ]
  },
  {
   "cell_type": "code",
   "execution_count": 3,
   "id": "282ec3f4",
   "metadata": {},
   "outputs": [],
   "source": [
    "df_list = [ufo]\n",
    "\n",
    "for df in df_list:\n",
    "    df.rename(columns=lambda col: col.replace(' ', '_').lower(), inplace=True)"
   ]
  },
  {
   "cell_type": "markdown",
   "id": "a124b79c",
   "metadata": {},
   "source": [
    "Utilized `.head()`, `.shape`, `.info()`, and `.describe()` to familiarize myself with the data."
   ]
  },
  {
   "cell_type": "code",
   "execution_count": 4,
   "id": "428260db",
   "metadata": {},
   "outputs": [
    {
     "name": "stdout",
     "output_type": "stream",
     "text": [
      "<class 'pandas.core.frame.DataFrame'>\n",
      "RangeIndex: 80332 entries, 0 to 80331\n",
      "Data columns (total 11 columns):\n",
      " #   Column                Non-Null Count  Dtype  \n",
      "---  ------                --------------  -----  \n",
      " 0   datetime              80332 non-null  object \n",
      " 1   city                  80332 non-null  object \n",
      " 2   state                 74535 non-null  object \n",
      " 3   country               70662 non-null  object \n",
      " 4   shape                 78400 non-null  object \n",
      " 5   duration_(seconds)    80332 non-null  object \n",
      " 6   duration_(hours/min)  80332 non-null  object \n",
      " 7   comments              80317 non-null  object \n",
      " 8   date_posted           80332 non-null  object \n",
      " 9   latitude              80332 non-null  object \n",
      " 10  longitude_            80332 non-null  float64\n",
      "dtypes: float64(1), object(10)\n",
      "memory usage: 6.7+ MB\n"
     ]
    },
    {
     "data": {
      "text/plain": [
       "(80332, 11)"
      ]
     },
     "execution_count": 4,
     "metadata": {},
     "output_type": "execute_result"
    }
   ],
   "source": [
    "ufo.head()\n",
    "ufo.info()\n",
    "ufo.describe()\n",
    "ufo.shape"
   ]
  },
  {
   "cell_type": "markdown",
   "id": "6c00b3d6",
   "metadata": {},
   "source": [
    "I am going to focus my analysis on UFO sightings that occurred in the United States. Created a new DataFrame called `ufo_us` which includes all rows where the `country` is 'us.' (80332 rows -> 65114 rows)"
   ]
  },
  {
   "cell_type": "code",
   "execution_count": 5,
   "id": "d9a8e2ef",
   "metadata": {},
   "outputs": [
    {
     "data": {
      "text/html": [
       "<div>\n",
       "<style scoped>\n",
       "    .dataframe tbody tr th:only-of-type {\n",
       "        vertical-align: middle;\n",
       "    }\n",
       "\n",
       "    .dataframe tbody tr th {\n",
       "        vertical-align: top;\n",
       "    }\n",
       "\n",
       "    .dataframe thead th {\n",
       "        text-align: right;\n",
       "    }\n",
       "</style>\n",
       "<table border=\"1\" class=\"dataframe\">\n",
       "  <thead>\n",
       "    <tr style=\"text-align: right;\">\n",
       "      <th></th>\n",
       "      <th>datetime</th>\n",
       "      <th>city</th>\n",
       "      <th>state</th>\n",
       "      <th>country</th>\n",
       "      <th>shape</th>\n",
       "      <th>duration_(seconds)</th>\n",
       "      <th>duration_(hours/min)</th>\n",
       "      <th>comments</th>\n",
       "      <th>date_posted</th>\n",
       "      <th>latitude</th>\n",
       "      <th>longitude_</th>\n",
       "    </tr>\n",
       "  </thead>\n",
       "  <tbody>\n",
       "    <tr>\n",
       "      <th>0</th>\n",
       "      <td>1949-10-10 20:30:00</td>\n",
       "      <td>san marcos</td>\n",
       "      <td>tx</td>\n",
       "      <td>us</td>\n",
       "      <td>cylinder</td>\n",
       "      <td>2700</td>\n",
       "      <td>45 minutes</td>\n",
       "      <td>This event took place in early fall around 194...</td>\n",
       "      <td>2004-04-27</td>\n",
       "      <td>29.8830556</td>\n",
       "      <td>-97.941111</td>\n",
       "    </tr>\n",
       "    <tr>\n",
       "      <th>1</th>\n",
       "      <td>1956-10-10 21:00:00</td>\n",
       "      <td>edna</td>\n",
       "      <td>tx</td>\n",
       "      <td>us</td>\n",
       "      <td>circle</td>\n",
       "      <td>20</td>\n",
       "      <td>1/2 hour</td>\n",
       "      <td>My older brother and twin sister were leaving ...</td>\n",
       "      <td>2004-01-17</td>\n",
       "      <td>28.9783333</td>\n",
       "      <td>-96.645833</td>\n",
       "    </tr>\n",
       "    <tr>\n",
       "      <th>2</th>\n",
       "      <td>1960-10-10 20:00:00</td>\n",
       "      <td>kaneohe</td>\n",
       "      <td>hi</td>\n",
       "      <td>us</td>\n",
       "      <td>light</td>\n",
       "      <td>900</td>\n",
       "      <td>15 minutes</td>\n",
       "      <td>AS a Marine 1st Lt. flying an FJ4B fighter/att...</td>\n",
       "      <td>2004-01-22</td>\n",
       "      <td>21.4180556</td>\n",
       "      <td>-157.803611</td>\n",
       "    </tr>\n",
       "    <tr>\n",
       "      <th>3</th>\n",
       "      <td>1961-10-10 19:00:00</td>\n",
       "      <td>bristol</td>\n",
       "      <td>tn</td>\n",
       "      <td>us</td>\n",
       "      <td>sphere</td>\n",
       "      <td>300</td>\n",
       "      <td>5 minutes</td>\n",
       "      <td>My father is now 89 my brother 52 the girl wit...</td>\n",
       "      <td>2007-04-27</td>\n",
       "      <td>36.595</td>\n",
       "      <td>-82.188889</td>\n",
       "    </tr>\n",
       "    <tr>\n",
       "      <th>4</th>\n",
       "      <td>1965-10-10 23:45:00</td>\n",
       "      <td>norwalk</td>\n",
       "      <td>ct</td>\n",
       "      <td>us</td>\n",
       "      <td>disk</td>\n",
       "      <td>1200</td>\n",
       "      <td>20 minutes</td>\n",
       "      <td>A bright orange color changing to reddish colo...</td>\n",
       "      <td>1999-10-02</td>\n",
       "      <td>41.1175</td>\n",
       "      <td>-73.408333</td>\n",
       "    </tr>\n",
       "    <tr>\n",
       "      <th>...</th>\n",
       "      <td>...</td>\n",
       "      <td>...</td>\n",
       "      <td>...</td>\n",
       "      <td>...</td>\n",
       "      <td>...</td>\n",
       "      <td>...</td>\n",
       "      <td>...</td>\n",
       "      <td>...</td>\n",
       "      <td>...</td>\n",
       "      <td>...</td>\n",
       "      <td>...</td>\n",
       "    </tr>\n",
       "    <tr>\n",
       "      <th>65109</th>\n",
       "      <td>2013-09-09 21:15:00</td>\n",
       "      <td>nashville</td>\n",
       "      <td>tn</td>\n",
       "      <td>us</td>\n",
       "      <td>light</td>\n",
       "      <td>600.0</td>\n",
       "      <td>10 minutes</td>\n",
       "      <td>Round from the distance/slowly changing colors...</td>\n",
       "      <td>2013-09-30</td>\n",
       "      <td>36.165833</td>\n",
       "      <td>-86.784444</td>\n",
       "    </tr>\n",
       "    <tr>\n",
       "      <th>65110</th>\n",
       "      <td>2013-09-09 22:00:00</td>\n",
       "      <td>boise</td>\n",
       "      <td>id</td>\n",
       "      <td>us</td>\n",
       "      <td>circle</td>\n",
       "      <td>1200.0</td>\n",
       "      <td>20 minutes</td>\n",
       "      <td>Boise&amp;#44 ID&amp;#44 spherical&amp;#44 20 min&amp;#44 10 r...</td>\n",
       "      <td>2013-09-30</td>\n",
       "      <td>43.613611</td>\n",
       "      <td>-116.202500</td>\n",
       "    </tr>\n",
       "    <tr>\n",
       "      <th>65111</th>\n",
       "      <td>2013-09-09 22:00:00</td>\n",
       "      <td>napa</td>\n",
       "      <td>ca</td>\n",
       "      <td>us</td>\n",
       "      <td>other</td>\n",
       "      <td>1200.0</td>\n",
       "      <td>hour</td>\n",
       "      <td>Napa UFO&amp;#44</td>\n",
       "      <td>2013-09-30</td>\n",
       "      <td>38.297222</td>\n",
       "      <td>-122.284444</td>\n",
       "    </tr>\n",
       "    <tr>\n",
       "      <th>65112</th>\n",
       "      <td>2013-09-09 22:20:00</td>\n",
       "      <td>vienna</td>\n",
       "      <td>va</td>\n",
       "      <td>us</td>\n",
       "      <td>circle</td>\n",
       "      <td>5.0</td>\n",
       "      <td>5 seconds</td>\n",
       "      <td>Saw a five gold lit cicular craft moving fastl...</td>\n",
       "      <td>2013-09-30</td>\n",
       "      <td>38.901111</td>\n",
       "      <td>-77.265556</td>\n",
       "    </tr>\n",
       "    <tr>\n",
       "      <th>65113</th>\n",
       "      <td>2013-09-09 23:00:00</td>\n",
       "      <td>edmond</td>\n",
       "      <td>ok</td>\n",
       "      <td>us</td>\n",
       "      <td>cigar</td>\n",
       "      <td>1020.0</td>\n",
       "      <td>17 minutes</td>\n",
       "      <td>2 witnesses 2  miles apart&amp;#44 Red &amp;amp; White...</td>\n",
       "      <td>2013-09-30</td>\n",
       "      <td>35.652778</td>\n",
       "      <td>-97.477778</td>\n",
       "    </tr>\n",
       "  </tbody>\n",
       "</table>\n",
       "<p>65114 rows × 11 columns</p>\n",
       "</div>"
      ],
      "text/plain": [
       "                  datetime        city state country     shape  \\\n",
       "0      1949-10-10 20:30:00  san marcos    tx      us  cylinder   \n",
       "1      1956-10-10 21:00:00        edna    tx      us    circle   \n",
       "2      1960-10-10 20:00:00     kaneohe    hi      us     light   \n",
       "3      1961-10-10 19:00:00     bristol    tn      us    sphere   \n",
       "4      1965-10-10 23:45:00     norwalk    ct      us      disk   \n",
       "...                    ...         ...   ...     ...       ...   \n",
       "65109  2013-09-09 21:15:00   nashville    tn      us     light   \n",
       "65110  2013-09-09 22:00:00       boise    id      us    circle   \n",
       "65111  2013-09-09 22:00:00        napa    ca      us     other   \n",
       "65112  2013-09-09 22:20:00      vienna    va      us    circle   \n",
       "65113  2013-09-09 23:00:00      edmond    ok      us     cigar   \n",
       "\n",
       "      duration_(seconds) duration_(hours/min)  \\\n",
       "0                   2700           45 minutes   \n",
       "1                     20             1/2 hour   \n",
       "2                    900           15 minutes   \n",
       "3                    300            5 minutes   \n",
       "4                   1200           20 minutes   \n",
       "...                  ...                  ...   \n",
       "65109              600.0           10 minutes   \n",
       "65110             1200.0           20 minutes   \n",
       "65111             1200.0                 hour   \n",
       "65112                5.0            5 seconds   \n",
       "65113             1020.0           17 minutes   \n",
       "\n",
       "                                                comments date_posted  \\\n",
       "0      This event took place in early fall around 194...  2004-04-27   \n",
       "1      My older brother and twin sister were leaving ...  2004-01-17   \n",
       "2      AS a Marine 1st Lt. flying an FJ4B fighter/att...  2004-01-22   \n",
       "3      My father is now 89 my brother 52 the girl wit...  2007-04-27   \n",
       "4      A bright orange color changing to reddish colo...  1999-10-02   \n",
       "...                                                  ...         ...   \n",
       "65109  Round from the distance/slowly changing colors...  2013-09-30   \n",
       "65110  Boise&#44 ID&#44 spherical&#44 20 min&#44 10 r...  2013-09-30   \n",
       "65111                                       Napa UFO&#44  2013-09-30   \n",
       "65112  Saw a five gold lit cicular craft moving fastl...  2013-09-30   \n",
       "65113  2 witnesses 2  miles apart&#44 Red &amp; White...  2013-09-30   \n",
       "\n",
       "         latitude  longitude_  \n",
       "0      29.8830556  -97.941111  \n",
       "1      28.9783333  -96.645833  \n",
       "2      21.4180556 -157.803611  \n",
       "3          36.595  -82.188889  \n",
       "4         41.1175  -73.408333  \n",
       "...           ...         ...  \n",
       "65109   36.165833  -86.784444  \n",
       "65110   43.613611 -116.202500  \n",
       "65111   38.297222 -122.284444  \n",
       "65112   38.901111  -77.265556  \n",
       "65113   35.652778  -97.477778  \n",
       "\n",
       "[65114 rows x 11 columns]"
      ]
     },
     "execution_count": 5,
     "metadata": {},
     "output_type": "execute_result"
    }
   ],
   "source": [
    "ufo_us = ufo[ufo['country'] == 'us'].reset_index(drop = True)\n",
    "\n",
    "ufo_us"
   ]
  },
  {
   "cell_type": "markdown",
   "id": "30140ffc",
   "metadata": {},
   "source": [
    "To narrow down the DataFrame even further, I created a list of the 50 states and am overwiting the `ufo_us` DataFrame where values in the `state` column are in the list of states. (65114 rows -> 65082 rows)"
   ]
  },
  {
   "cell_type": "code",
   "execution_count": 6,
   "id": "3c21a842",
   "metadata": {},
   "outputs": [
    {
     "data": {
      "text/html": [
       "<div>\n",
       "<style scoped>\n",
       "    .dataframe tbody tr th:only-of-type {\n",
       "        vertical-align: middle;\n",
       "    }\n",
       "\n",
       "    .dataframe tbody tr th {\n",
       "        vertical-align: top;\n",
       "    }\n",
       "\n",
       "    .dataframe thead th {\n",
       "        text-align: right;\n",
       "    }\n",
       "</style>\n",
       "<table border=\"1\" class=\"dataframe\">\n",
       "  <thead>\n",
       "    <tr style=\"text-align: right;\">\n",
       "      <th></th>\n",
       "      <th>datetime</th>\n",
       "      <th>city</th>\n",
       "      <th>state</th>\n",
       "      <th>country</th>\n",
       "      <th>shape</th>\n",
       "      <th>duration_(seconds)</th>\n",
       "      <th>duration_(hours/min)</th>\n",
       "      <th>comments</th>\n",
       "      <th>date_posted</th>\n",
       "      <th>latitude</th>\n",
       "      <th>longitude_</th>\n",
       "    </tr>\n",
       "  </thead>\n",
       "  <tbody>\n",
       "    <tr>\n",
       "      <th>0</th>\n",
       "      <td>1949-10-10 20:30:00</td>\n",
       "      <td>san marcos</td>\n",
       "      <td>tx</td>\n",
       "      <td>us</td>\n",
       "      <td>cylinder</td>\n",
       "      <td>2700</td>\n",
       "      <td>45 minutes</td>\n",
       "      <td>This event took place in early fall around 194...</td>\n",
       "      <td>2004-04-27</td>\n",
       "      <td>29.8830556</td>\n",
       "      <td>-97.941111</td>\n",
       "    </tr>\n",
       "    <tr>\n",
       "      <th>1</th>\n",
       "      <td>1956-10-10 21:00:00</td>\n",
       "      <td>edna</td>\n",
       "      <td>tx</td>\n",
       "      <td>us</td>\n",
       "      <td>circle</td>\n",
       "      <td>20</td>\n",
       "      <td>1/2 hour</td>\n",
       "      <td>My older brother and twin sister were leaving ...</td>\n",
       "      <td>2004-01-17</td>\n",
       "      <td>28.9783333</td>\n",
       "      <td>-96.645833</td>\n",
       "    </tr>\n",
       "    <tr>\n",
       "      <th>2</th>\n",
       "      <td>1960-10-10 20:00:00</td>\n",
       "      <td>kaneohe</td>\n",
       "      <td>hi</td>\n",
       "      <td>us</td>\n",
       "      <td>light</td>\n",
       "      <td>900</td>\n",
       "      <td>15 minutes</td>\n",
       "      <td>AS a Marine 1st Lt. flying an FJ4B fighter/att...</td>\n",
       "      <td>2004-01-22</td>\n",
       "      <td>21.4180556</td>\n",
       "      <td>-157.803611</td>\n",
       "    </tr>\n",
       "    <tr>\n",
       "      <th>3</th>\n",
       "      <td>1961-10-10 19:00:00</td>\n",
       "      <td>bristol</td>\n",
       "      <td>tn</td>\n",
       "      <td>us</td>\n",
       "      <td>sphere</td>\n",
       "      <td>300</td>\n",
       "      <td>5 minutes</td>\n",
       "      <td>My father is now 89 my brother 52 the girl wit...</td>\n",
       "      <td>2007-04-27</td>\n",
       "      <td>36.595</td>\n",
       "      <td>-82.188889</td>\n",
       "    </tr>\n",
       "    <tr>\n",
       "      <th>4</th>\n",
       "      <td>1965-10-10 23:45:00</td>\n",
       "      <td>norwalk</td>\n",
       "      <td>ct</td>\n",
       "      <td>us</td>\n",
       "      <td>disk</td>\n",
       "      <td>1200</td>\n",
       "      <td>20 minutes</td>\n",
       "      <td>A bright orange color changing to reddish colo...</td>\n",
       "      <td>1999-10-02</td>\n",
       "      <td>41.1175</td>\n",
       "      <td>-73.408333</td>\n",
       "    </tr>\n",
       "    <tr>\n",
       "      <th>...</th>\n",
       "      <td>...</td>\n",
       "      <td>...</td>\n",
       "      <td>...</td>\n",
       "      <td>...</td>\n",
       "      <td>...</td>\n",
       "      <td>...</td>\n",
       "      <td>...</td>\n",
       "      <td>...</td>\n",
       "      <td>...</td>\n",
       "      <td>...</td>\n",
       "      <td>...</td>\n",
       "    </tr>\n",
       "    <tr>\n",
       "      <th>65109</th>\n",
       "      <td>2013-09-09 21:15:00</td>\n",
       "      <td>nashville</td>\n",
       "      <td>tn</td>\n",
       "      <td>us</td>\n",
       "      <td>light</td>\n",
       "      <td>600.0</td>\n",
       "      <td>10 minutes</td>\n",
       "      <td>Round from the distance/slowly changing colors...</td>\n",
       "      <td>2013-09-30</td>\n",
       "      <td>36.165833</td>\n",
       "      <td>-86.784444</td>\n",
       "    </tr>\n",
       "    <tr>\n",
       "      <th>65110</th>\n",
       "      <td>2013-09-09 22:00:00</td>\n",
       "      <td>boise</td>\n",
       "      <td>id</td>\n",
       "      <td>us</td>\n",
       "      <td>circle</td>\n",
       "      <td>1200.0</td>\n",
       "      <td>20 minutes</td>\n",
       "      <td>Boise&amp;#44 ID&amp;#44 spherical&amp;#44 20 min&amp;#44 10 r...</td>\n",
       "      <td>2013-09-30</td>\n",
       "      <td>43.613611</td>\n",
       "      <td>-116.202500</td>\n",
       "    </tr>\n",
       "    <tr>\n",
       "      <th>65111</th>\n",
       "      <td>2013-09-09 22:00:00</td>\n",
       "      <td>napa</td>\n",
       "      <td>ca</td>\n",
       "      <td>us</td>\n",
       "      <td>other</td>\n",
       "      <td>1200.0</td>\n",
       "      <td>hour</td>\n",
       "      <td>Napa UFO&amp;#44</td>\n",
       "      <td>2013-09-30</td>\n",
       "      <td>38.297222</td>\n",
       "      <td>-122.284444</td>\n",
       "    </tr>\n",
       "    <tr>\n",
       "      <th>65112</th>\n",
       "      <td>2013-09-09 22:20:00</td>\n",
       "      <td>vienna</td>\n",
       "      <td>va</td>\n",
       "      <td>us</td>\n",
       "      <td>circle</td>\n",
       "      <td>5.0</td>\n",
       "      <td>5 seconds</td>\n",
       "      <td>Saw a five gold lit cicular craft moving fastl...</td>\n",
       "      <td>2013-09-30</td>\n",
       "      <td>38.901111</td>\n",
       "      <td>-77.265556</td>\n",
       "    </tr>\n",
       "    <tr>\n",
       "      <th>65113</th>\n",
       "      <td>2013-09-09 23:00:00</td>\n",
       "      <td>edmond</td>\n",
       "      <td>ok</td>\n",
       "      <td>us</td>\n",
       "      <td>cigar</td>\n",
       "      <td>1020.0</td>\n",
       "      <td>17 minutes</td>\n",
       "      <td>2 witnesses 2  miles apart&amp;#44 Red &amp;amp; White...</td>\n",
       "      <td>2013-09-30</td>\n",
       "      <td>35.652778</td>\n",
       "      <td>-97.477778</td>\n",
       "    </tr>\n",
       "  </tbody>\n",
       "</table>\n",
       "<p>65082 rows × 11 columns</p>\n",
       "</div>"
      ],
      "text/plain": [
       "                  datetime        city state country     shape  \\\n",
       "0      1949-10-10 20:30:00  san marcos    tx      us  cylinder   \n",
       "1      1956-10-10 21:00:00        edna    tx      us    circle   \n",
       "2      1960-10-10 20:00:00     kaneohe    hi      us     light   \n",
       "3      1961-10-10 19:00:00     bristol    tn      us    sphere   \n",
       "4      1965-10-10 23:45:00     norwalk    ct      us      disk   \n",
       "...                    ...         ...   ...     ...       ...   \n",
       "65109  2013-09-09 21:15:00   nashville    tn      us     light   \n",
       "65110  2013-09-09 22:00:00       boise    id      us    circle   \n",
       "65111  2013-09-09 22:00:00        napa    ca      us     other   \n",
       "65112  2013-09-09 22:20:00      vienna    va      us    circle   \n",
       "65113  2013-09-09 23:00:00      edmond    ok      us     cigar   \n",
       "\n",
       "      duration_(seconds) duration_(hours/min)  \\\n",
       "0                   2700           45 minutes   \n",
       "1                     20             1/2 hour   \n",
       "2                    900           15 minutes   \n",
       "3                    300            5 minutes   \n",
       "4                   1200           20 minutes   \n",
       "...                  ...                  ...   \n",
       "65109              600.0           10 minutes   \n",
       "65110             1200.0           20 minutes   \n",
       "65111             1200.0                 hour   \n",
       "65112                5.0            5 seconds   \n",
       "65113             1020.0           17 minutes   \n",
       "\n",
       "                                                comments date_posted  \\\n",
       "0      This event took place in early fall around 194...  2004-04-27   \n",
       "1      My older brother and twin sister were leaving ...  2004-01-17   \n",
       "2      AS a Marine 1st Lt. flying an FJ4B fighter/att...  2004-01-22   \n",
       "3      My father is now 89 my brother 52 the girl wit...  2007-04-27   \n",
       "4      A bright orange color changing to reddish colo...  1999-10-02   \n",
       "...                                                  ...         ...   \n",
       "65109  Round from the distance/slowly changing colors...  2013-09-30   \n",
       "65110  Boise&#44 ID&#44 spherical&#44 20 min&#44 10 r...  2013-09-30   \n",
       "65111                                       Napa UFO&#44  2013-09-30   \n",
       "65112  Saw a five gold lit cicular craft moving fastl...  2013-09-30   \n",
       "65113  2 witnesses 2  miles apart&#44 Red &amp; White...  2013-09-30   \n",
       "\n",
       "         latitude  longitude_  \n",
       "0      29.8830556  -97.941111  \n",
       "1      28.9783333  -96.645833  \n",
       "2      21.4180556 -157.803611  \n",
       "3          36.595  -82.188889  \n",
       "4         41.1175  -73.408333  \n",
       "...           ...         ...  \n",
       "65109   36.165833  -86.784444  \n",
       "65110   43.613611 -116.202500  \n",
       "65111   38.297222 -122.284444  \n",
       "65112   38.901111  -77.265556  \n",
       "65113   35.652778  -97.477778  \n",
       "\n",
       "[65082 rows x 11 columns]"
      ]
     },
     "execution_count": 6,
     "metadata": {},
     "output_type": "execute_result"
    }
   ],
   "source": [
    "states = ['al', 'ak', 'az', 'ar', 'ca', 'co', 'ct', 'de', 'fl', 'ga', 'hi', 'id', 'il', 'in', 'ia', 'ks'\n",
    "          , 'ky', 'la', 'me', 'md', 'ma', 'mi', 'mn', 'ms', 'mo', 'mt', 'ne', 'nv', 'nh', 'nj', 'nm', 'ny'\n",
    "          , 'nc', 'nd', 'oh', 'ok', 'or', 'pa', 'ri', 'sc', 'sd', 'tn', 'tx', 'ut', 'vt', 'va', 'wa', 'wv'\n",
    "          , 'wi', 'wy']\n",
    "\n",
    "ufo_us = ufo_us[ufo_us['state'].isin(states) == True]\n",
    "\n",
    "ufo_us"
   ]
  },
  {
   "cell_type": "markdown",
   "id": "192aaa4b",
   "metadata": {},
   "source": [
    " Created a new column called `state_full` which is the non-abbreviated version of `state`."
   ]
  },
  {
   "cell_type": "code",
   "execution_count": 9,
   "id": "1a2b3c45",
   "metadata": {},
   "outputs": [],
   "source": [
    "import warnings\n",
    "warnings.filterwarnings('ignore')\n",
    "\n",
    "ufo_us['state_full'] = ufo_us['state'].replace('al', 'Alabama').replace('ak', 'Alaska').replace('az', 'Arizona').replace('ar', 'Arkansas').replace('ca', 'California').replace('co', 'Colorado').replace('ct', 'Connecticut').replace('de', 'Delaware').replace('fl', 'Florida').replace('ga', 'Georgia').replace('hi', 'Hawaii').replace('id', 'Idaho').replace('il', 'Illinois').replace('in', 'Indiana').replace('ia', 'Iowa').replace('ks', 'Kansas').replace('ky', 'Kentucky').replace('la', 'Louisiana').replace('me', 'Maine').replace('md', 'Maryland').replace('ma', 'Massachusetts').replace('mi', 'Michigan').replace('mn', 'Minnesota').replace('ms', 'Mississippi').replace('mo', 'Missouri').replace('mt', 'Montana').replace('ne', 'Nebraska').replace('nv', 'Nevada').replace('nh', 'New Hampshire').replace('nj', 'New Jersey').replace('nm', 'New Mexico').replace('ny', 'New York').replace('nc', 'North Carolina').replace('nd', 'North Dakota').replace('oh', 'Ohio').replace('ok', 'Oklahoma').replace('or', 'Oregon').replace('pa', 'Pennsylvania').replace('ri', 'Rhode Island').replace('sc', 'South Carolina').replace('sd', 'South Dakota').replace('tn', 'Tennessee').replace('tx', 'Texas').replace('ut', 'Utah').replace('vt', 'Vermont').replace('va', 'Virginia').replace('wa', 'Washington').replace('wv', 'West Virginia').replace('wi', 'Wisconsin').replace('wy', 'Wyoming')"
   ]
  },
  {
   "cell_type": "markdown",
   "id": "53192458",
   "metadata": {},
   "source": [
    "Created new columns `date`, `year`, and `month` from the `datetime` column."
   ]
  },
  {
   "cell_type": "code",
   "execution_count": 10,
   "id": "deded202",
   "metadata": {},
   "outputs": [],
   "source": [
    "ufo_us['date'] = pd.to_datetime(ufo_us['datetime']).dt.date\n",
    "ufo_us['year'] = ufo_us['date'].astype(str).str[:4]\n",
    "ufo_us['month'] = ufo_us['date'].astype('str').str[5:7]"
   ]
  },
  {
   "cell_type": "markdown",
   "id": "29a4dcf3",
   "metadata": {},
   "source": [
    "Created a new column called `month_full` which is the name of the month rather than the numeric value seen in `month`."
   ]
  },
  {
   "cell_type": "code",
   "execution_count": 11,
   "id": "ca023ff0",
   "metadata": {},
   "outputs": [],
   "source": [
    "ufo_us['month_full'] = ufo_us['month'].replace('01', 'January').replace('02', 'February').replace('03', 'March').replace('04', 'April').replace('05', 'May').replace('06', 'June').replace('07', 'July').replace('08', 'August').replace('09', 'September').replace('10', 'October').replace('11', 'November').replace('12', 'December')"
   ]
  },
  {
   "cell_type": "markdown",
   "id": "fd8714b6",
   "metadata": {},
   "source": [
    "The `comments` column includes HTML character codes rather than the characters themselves. Replaced the code with their respective characters."
   ]
  },
  {
   "cell_type": "code",
   "execution_count": 12,
   "id": "2895f1de",
   "metadata": {},
   "outputs": [],
   "source": [
    "ufo_us['comments'] = ufo_us['comments'].str.replace('&#32',' ').str.replace('&#33','!').str.replace('&#34','\"').str.replace('&#35','#').str.replace('&#36','$').str.replace('&#37','%').str.replace('&#38','&').str.replace('&#39',\"\\'\").str.replace('&#40','(').str.replace('&#41',')').str.replace('&#42','*').str.replace('&#43','+').str.replace('&#44',',').str.replace('&#45','-').str.replace('&#46','.').str.replace('&#47','/').str.replace('&#48','0').str.replace('&#49','1').str.replace('&#50','2').str.replace('&#51','3').str.replace('&#52','4').str.replace('&#53','5').str.replace('&#54','6').str.replace('&#55','7').str.replace('&#56','8').str.replace('&#57','9').str.replace('&#58',':').str.replace('&#59',';').str.replace('&#60','<').str.replace('&#61','=').str.replace('&#62','>').str.replace('&#63','?').str.replace('&#64','@').str.replace('&#65','A').str.replace('&#66','B').str.replace('&#67','C').str.replace('&#68','D').str.replace('&#69','E').str.replace('&#70','F').str.replace('&#71','G').str.replace('&#72','H').str.replace('&#73','I').str.replace('&#74','J').str.replace('&#75','K').str.replace('&#76','L').str.replace('&#77','M').str.replace('&#78','N').str.replace('&#79','O').str.replace('&#80','P').str.replace('&#81','Q').str.replace('&#82','R').str.replace('&#83','S').str.replace('&#84','T').str.replace('&#85','U').str.replace('&#86','V').str.replace('&#87','W').str.replace('&#88','X').str.replace('&#89','Y').str.replace('&#90','Z').str.replace('&#91','[').str.replace('&#93',']').str.replace('&#94','^').str.replace('&#95','_').str.replace('&#96','`').str.replace('&#97','a').str.replace('&#98','b').str.replace('&#99','c').str.replace('&#100','d').str.replace('&#101','e').str.replace('&#102','f').str.replace('&#103','g').str.replace('&#104','h').str.replace('&#105','i').str.replace('&#106','j').str.replace('&#107','k').str.replace('&#108','l').str.replace('&#109','m').str.replace('&#110','n').str.replace('&#111','o').str.replace('&#112','p').str.replace('&#113','q').str.replace('&#114','r').str.replace('&#115','s').str.replace('&#116','t').str.replace('&#117','u').str.replace('&#118','v').str.replace('&#119','w').str.replace('&#120','x').str.replace('&#121','y').str.replace('&#122','z').str.replace('&#123','{').str.replace('&#124','|').str.replace('&#125','}').str.replace('&#126','~')"
   ]
  },
  {
   "cell_type": "markdown",
   "id": "d66eaacb",
   "metadata": {},
   "source": [
    "## Data Analysis"
   ]
  },
  {
   "cell_type": "markdown",
   "id": "099e9480",
   "metadata": {},
   "source": [
    "What shapes of UFOs tend to be seen most often?\n",
    "\n",
    "The 'light' shape was seen most often at 21.2% of total sightings or 13,471 total times. The 'triangle' shape was seen second most at 10.3% or 6,548 times."
   ]
  },
  {
   "cell_type": "code",
   "execution_count": 13,
   "id": "4f8441c8",
   "metadata": {},
   "outputs": [
    {
     "data": {
      "text/plain": [
       "light        13471\n",
       "triangle      6548\n",
       "circle        6117\n",
       "fireball      5147\n",
       "unknown       4564\n",
       "other         4463\n",
       "sphere        4344\n",
       "disk          4116\n",
       "oval          3028\n",
       "formation     1989\n",
       "Name: shape, dtype: int64"
      ]
     },
     "execution_count": 13,
     "metadata": {},
     "output_type": "execute_result"
    }
   ],
   "source": [
    "ufo_us['shape'].value_counts().head(10)"
   ]
  },
  {
   "cell_type": "code",
   "execution_count": 14,
   "id": "570cc498",
   "metadata": {},
   "outputs": [
    {
     "data": {
      "text/plain": [
       "light        21.2\n",
       "triangle     10.3\n",
       "circle        9.6\n",
       "fireball      8.1\n",
       "unknown       7.2\n",
       "other         7.0\n",
       "sphere        6.8\n",
       "disk          6.5\n",
       "oval          4.8\n",
       "formation     3.1\n",
       "Name: shape, dtype: float64"
      ]
     },
     "execution_count": 14,
     "metadata": {},
     "output_type": "execute_result"
    }
   ],
   "source": [
    "round(ufo_us['shape'].value_counts(normalize = True).head(10), 3) * 100"
   ]
  },
  {
   "cell_type": "markdown",
   "id": "51db7b0a",
   "metadata": {},
   "source": [
    "Take a look at data since the year 2000. How have annual sightings trended?\n",
    "\n",
    "Since 2000, the number of sightings by year saw an overall upward trend and peaked in 2012. After the peak, the number of sightings drastically decreased."
   ]
  },
  {
   "cell_type": "code",
   "execution_count": 15,
   "id": "8cf440c1",
   "metadata": {},
   "outputs": [
    {
     "data": {
      "image/png": "[encoded data removed]",
      "text/plain": [
       "<Figure size 432x288 with 1 Axes>"
      ]
     },
     "metadata": {
      "needs_background": "light"
     },
     "output_type": "display_data"
    }
   ],
   "source": [
    "ufo_us_2000 = ufo_us[ufo_us['year'] >= '2000']\n",
    "\n",
    "count_ufo_us_2000 = ufo_us_2000['year'].value_counts().sort_index()\n",
    "\n",
    "import matplotlib.pyplot as plt\n",
    "\n",
    "plt.plot(count_ufo_us_2000)\n",
    "plt.title('# of Sightings by Year (US)', fontsize = 15)\n",
    "plt.xlabel('Year')\n",
    "plt.ylabel('Sightings')\n",
    "plt.xticks(rotation = 90)\n",
    "plt.show()"
   ]
  },
  {
   "cell_type": "markdown",
   "id": "91f02e1c",
   "metadata": {},
   "source": [
    "Which states report the most UFO sightings? What do you think about this?\n",
    "\n",
    "'california' saw the most sightings with a total of 8,912 or 13.7% of total sightings. Two factors I believe may play into this are that it is the most populous state and moving east away from the coast, the desert terrain offers clearer skies for sightings. "
   ]
  },
  {
   "cell_type": "code",
   "execution_count": 17,
   "id": "92b9a06e",
   "metadata": {},
   "outputs": [
    {
     "data": {
      "text/plain": [
       "California      8912\n",
       "Washington      3966\n",
       "Florida         3835\n",
       "Texas           3447\n",
       "New York        2980\n",
       "Illinois        2499\n",
       "Arizona         2414\n",
       "Pennsylvania    2366\n",
       "Ohio            2275\n",
       "Michigan        1836\n",
       "Name: state_full, dtype: int64"
      ]
     },
     "execution_count": 17,
     "metadata": {},
     "output_type": "execute_result"
    }
   ],
   "source": [
    "ufo_us['state_full'].value_counts().head(10)"
   ]
  },
  {
   "cell_type": "code",
   "execution_count": 18,
   "id": "b3b3c81c",
   "metadata": {},
   "outputs": [
    {
     "data": {
      "text/plain": [
       "California      13.7\n",
       "Washington       6.1\n",
       "Florida          5.9\n",
       "Texas            5.3\n",
       "New York         4.6\n",
       "Illinois         3.8\n",
       "Arizona          3.7\n",
       "Pennsylvania     3.6\n",
       "Ohio             3.5\n",
       "Michigan         2.8\n",
       "Name: state_full, dtype: float64"
      ]
     },
     "execution_count": 18,
     "metadata": {},
     "output_type": "execute_result"
    }
   ],
   "source": [
    "round(ufo_us['state_full'].value_counts(normalize = True).head(10), 3) * 100"
   ]
  },
  {
   "cell_type": "markdown",
   "id": "a5cd895f",
   "metadata": {},
   "source": [
    "What time of day did most sightings occur?\n",
    "\n",
    "To better visualize this, I created a new column called `time_category` which bins the `datetime` column into the following categories:\n",
    "\n",
    "- 0:00 - 3:59\n",
    "- 4:00 - 7:59\n",
    "- 8:00 - 11:59\n",
    "- 12:00 - 15:59\n",
    "- 16:00 - 19:59\n",
    "- 20:00 - 23:59\n",
    "\n",
    "There were a total of 31,836 sightings or 48.9% of total sightings during the 8:00 PM - 11:59 PM bin. This may be due to the requirement of darkness to better see anomalies in the sky. "
   ]
  },
  {
   "cell_type": "code",
   "execution_count": 19,
   "id": "21e95c18",
   "metadata": {},
   "outputs": [],
   "source": [
    "ufo_us['time_category'] = pd.to_datetime(ufo_us['datetime'])\n",
    "\n",
    "ufo_us['time_category'] = pd.cut(ufo_us['time_category'].dt.hour, bins = [0, 4, 8, 12, 16, 20, 24]\n",
    "                                 , labels = ['00:00-03:59', '04:00-7:59', '8:00-11:59', '12:00-15:59', '16:00-19:59', '20:00-23:59']\n",
    "                                 , right=False)"
   ]
  },
  {
   "cell_type": "code",
   "execution_count": 23,
   "id": "e63708c6",
   "metadata": {},
   "outputs": [
    {
     "data": {
      "text/plain": [
       "00:00-03:59     9535\n",
       "04:00-7:59      4286\n",
       "8:00-11:59      3333\n",
       "12:00-15:59     4260\n",
       "16:00-19:59    11832\n",
       "20:00-23:59    31836\n",
       "Name: time_category, dtype: int64"
      ]
     },
     "execution_count": 23,
     "metadata": {},
     "output_type": "execute_result"
    }
   ],
   "source": [
    "count_time = ufo_us['time_category'].value_counts().sort_index()\n",
    "\n",
    "count_time"
   ]
  },
  {
   "cell_type": "code",
   "execution_count": 24,
   "id": "b76c98c0",
   "metadata": {},
   "outputs": [
    {
     "data": {
      "text/plain": [
       "00:00-03:59    14.7\n",
       "04:00-7:59      6.6\n",
       "8:00-11:59      5.1\n",
       "12:00-15:59     6.5\n",
       "16:00-19:59    18.2\n",
       "20:00-23:59    48.9\n",
       "Name: time_category, dtype: float64"
      ]
     },
     "execution_count": 24,
     "metadata": {},
     "output_type": "execute_result"
    }
   ],
   "source": [
    "round(ufo_us['time_category'].value_counts(normalize = True).sort_index(), 3) * 100"
   ]
  },
  {
   "cell_type": "code",
   "execution_count": 25,
   "id": "94dea502",
   "metadata": {},
   "outputs": [
    {
     "data": {
      "text/plain": [
       "Text(0, 0.5, 'Sightings')"
      ]
     },
     "execution_count": 25,
     "metadata": {},
     "output_type": "execute_result"
    },
    {
     "data": {
      "image/png": "[encoded data removed]",
      "text/plain": [
       "<Figure size 432x288 with 1 Axes>"
      ]
     },
     "metadata": {
      "needs_background": "light"
     },
     "output_type": "display_data"
    }
   ],
   "source": [
    "count_time.plot.bar()\n",
    "plt.title('# of Sightings by Time (US)', fontsize = 15)\n",
    "plt.xticks(rotation = 45)\n",
    "plt.xlabel('Time')\n",
    "plt.ylabel('Sightings')"
   ]
  },
  {
   "cell_type": "markdown",
   "id": "9fb240d2",
   "metadata": {},
   "source": [
    "What is the typical duration for a UFO sighting?\n",
    "\n",
    "Created a new column called `duration_(minutes)` which is simply the `duration_(seconds)` converted to minutes. Placed these values on a box and whisker plot (excluding outliers).\n",
    "\n",
    "The long upper whisker indicates that there may be a  larger variance among the greater values in the fourth quartile. `duration_(minutes)` is positively skewed. The median duration is around 3 minutes."
   ]
  },
  {
   "cell_type": "code",
   "execution_count": 26,
   "id": "3b5ed56f",
   "metadata": {},
   "outputs": [],
   "source": [
    "ufo_us['duration_(seconds)'] = ufo_us['duration_(seconds)'].replace('2`', '2').replace('8`', '8')\n",
    "ufo_us['duration_(seconds)'] = ufo_us['duration_(seconds)'].astype('float')"
   ]
  },
  {
   "cell_type": "code",
   "execution_count": 27,
   "id": "8ae3130c",
   "metadata": {},
   "outputs": [],
   "source": [
    "ufo_us['duration_(minutes)'] = ufo_us['duration_(seconds)'] / 60"
   ]
  },
  {
   "cell_type": "code",
   "execution_count": 30,
   "id": "e5df5eb0",
   "metadata": {},
   "outputs": [
    {
     "data": {
      "image/png": "[encoded data removed]",
      "text/plain": [
       "<Figure size 432x288 with 1 Axes>"
      ]
     },
     "metadata": {
      "needs_background": "light"
     },
     "output_type": "display_data"
    }
   ],
   "source": [
    "plt.boxplot(ufo_us['duration_(minutes)'], showfliers = False, vert = False)\n",
    "\n",
    "plt.show()"
   ]
  },
  {
   "cell_type": "markdown",
   "id": "e18a3eca",
   "metadata": {},
   "source": [
    "Which months have the most sightings?\n",
    "\n",
    "The most sightings were in 'july.' There were a total of 7,649 sightings or 11.8% of the total."
   ]
  },
  {
   "cell_type": "code",
   "execution_count": 32,
   "id": "11e64241",
   "metadata": {},
   "outputs": [
    {
     "data": {
      "text/plain": [
       "July         7649\n",
       "August       6825\n",
       "June         6408\n",
       "October      6225\n",
       "September    6180\n",
       "November     5664\n",
       "December     4607\n",
       "January      4578\n",
       "March        4455\n",
       "April        4443\n",
       "May          4243\n",
       "February     3805\n",
       "Name: month_full, dtype: int64"
      ]
     },
     "execution_count": 32,
     "metadata": {},
     "output_type": "execute_result"
    }
   ],
   "source": [
    "ufo_us_month = ufo_us['month_full'].value_counts()\n",
    "\n",
    "ufo_us_month"
   ]
  },
  {
   "cell_type": "code",
   "execution_count": 33,
   "id": "22e5153a",
   "metadata": {},
   "outputs": [
    {
     "data": {
      "text/plain": [
       "July         11.8\n",
       "August       10.5\n",
       "June          9.8\n",
       "October       9.6\n",
       "September     9.5\n",
       "November      8.7\n",
       "December      7.1\n",
       "January       7.0\n",
       "March         6.8\n",
       "April         6.8\n",
       "May           6.5\n",
       "February      5.8\n",
       "Name: month_full, dtype: float64"
      ]
     },
     "execution_count": 33,
     "metadata": {},
     "output_type": "execute_result"
    }
   ],
   "source": [
    "round(ufo_us['month_full'].value_counts(normalize = True), 3) * 100"
   ]
  },
  {
   "cell_type": "code",
   "execution_count": 35,
   "id": "c7640c4b",
   "metadata": {},
   "outputs": [
    {
     "data": {
      "text/plain": [
       "Text(0, 0.5, 'Month')"
      ]
     },
     "execution_count": 35,
     "metadata": {},
     "output_type": "execute_result"
    },
    {
     "data": {
      "image/png": "[encoded data removed]",
      "text/plain": [
       "<Figure size 432x288 with 1 Axes>"
      ]
     },
     "metadata": {
      "needs_background": "light"
     },
     "output_type": "display_data"
    }
   ],
   "source": [
    "ufo_us_month.plot.barh()\n",
    "plt.title('# of Sightings by Month (US)', fontsize = 15)\n",
    "plt.xticks(rotation = 45)\n",
    "plt.xlabel('Sightings')\n",
    "plt.ylabel('Month')"
   ]
  },
  {
   "cell_type": "markdown",
   "id": "fdbc7ce1",
   "metadata": {},
   "source": [
    "Which words occurred most in the `comments`?\n",
    "\n",
    "Used `.split()`, `.explode()`, and `to_list()` to create a list of all words in the `comments` column. Then, used `.most_common()` to better understand which words were used most. \n",
    "\n",
    "Besides the determiners, some of the most frequent words were 'light(s)', 'over', 'object', 'sky', 'moving', etc."
   ]
  },
  {
   "cell_type": "code",
   "execution_count": 36,
   "id": "e10f3afe",
   "metadata": {},
   "outputs": [],
   "source": [
    "ufo_us['comments_split'] = ufo_us['comments'].str.split()\n",
    "comments_split = ufo_us['comments_split'].explode().to_list()"
   ]
  },
  {
   "cell_type": "code",
   "execution_count": 46,
   "id": "b8536d02",
   "metadata": {},
   "outputs": [
    {
     "data": {
      "text/html": [
       "<div>\n",
       "<style scoped>\n",
       "    .dataframe tbody tr th:only-of-type {\n",
       "        vertical-align: middle;\n",
       "    }\n",
       "\n",
       "    .dataframe tbody tr th {\n",
       "        vertical-align: top;\n",
       "    }\n",
       "\n",
       "    .dataframe thead th {\n",
       "        text-align: right;\n",
       "    }\n",
       "</style>\n",
       "<table border=\"1\" class=\"dataframe\">\n",
       "  <thead>\n",
       "    <tr style=\"text-align: right;\">\n",
       "      <th></th>\n",
       "      <th>word</th>\n",
       "      <th>count</th>\n",
       "    </tr>\n",
       "  </thead>\n",
       "  <tbody>\n",
       "    <tr>\n",
       "      <th>0</th>\n",
       "      <td>the</td>\n",
       "      <td>26590</td>\n",
       "    </tr>\n",
       "    <tr>\n",
       "      <th>1</th>\n",
       "      <td>in</td>\n",
       "      <td>25926</td>\n",
       "    </tr>\n",
       "    <tr>\n",
       "      <th>2</th>\n",
       "      <td>a</td>\n",
       "      <td>21815</td>\n",
       "    </tr>\n",
       "    <tr>\n",
       "      <th>3</th>\n",
       "      <td>and</td>\n",
       "      <td>20197</td>\n",
       "    </tr>\n",
       "    <tr>\n",
       "      <th>4</th>\n",
       "      <td>of</td>\n",
       "      <td>16369</td>\n",
       "    </tr>\n",
       "    <tr>\n",
       "      <th>5</th>\n",
       "      <td>to</td>\n",
       "      <td>12655</td>\n",
       "    </tr>\n",
       "    <tr>\n",
       "      <th>6</th>\n",
       "      <td>light</td>\n",
       "      <td>11451</td>\n",
       "    </tr>\n",
       "    <tr>\n",
       "      <th>7</th>\n",
       "      <td>lights</td>\n",
       "      <td>11205</td>\n",
       "    </tr>\n",
       "    <tr>\n",
       "      <th>8</th>\n",
       "      <td>over</td>\n",
       "      <td>10674</td>\n",
       "    </tr>\n",
       "    <tr>\n",
       "      <th>9</th>\n",
       "      <td>I</td>\n",
       "      <td>10473</td>\n",
       "    </tr>\n",
       "    <tr>\n",
       "      <th>10</th>\n",
       "      <td>object</td>\n",
       "      <td>9520</td>\n",
       "    </tr>\n",
       "    <tr>\n",
       "      <th>11</th>\n",
       "      <td>was</td>\n",
       "      <td>9208</td>\n",
       "    </tr>\n",
       "    <tr>\n",
       "      <th>12</th>\n",
       "      <td>sky</td>\n",
       "      <td>8652</td>\n",
       "    </tr>\n",
       "    <tr>\n",
       "      <th>13</th>\n",
       "      <td>at</td>\n",
       "      <td>8180</td>\n",
       "    </tr>\n",
       "    <tr>\n",
       "      <th>14</th>\n",
       "      <td>with</td>\n",
       "      <td>7847</td>\n",
       "    </tr>\n",
       "    <tr>\n",
       "      <th>15</th>\n",
       "      <td>moving</td>\n",
       "      <td>6694</td>\n",
       "    </tr>\n",
       "    <tr>\n",
       "      <th>16</th>\n",
       "      <td>bright</td>\n",
       "      <td>6627</td>\n",
       "    </tr>\n",
       "    <tr>\n",
       "      <th>17</th>\n",
       "      <td>on</td>\n",
       "      <td>6567</td>\n",
       "    </tr>\n",
       "    <tr>\n",
       "      <th>18</th>\n",
       "      <td>then</td>\n",
       "      <td>5653</td>\n",
       "    </tr>\n",
       "    <tr>\n",
       "      <th>19</th>\n",
       "      <td>from</td>\n",
       "      <td>5624</td>\n",
       "    </tr>\n",
       "  </tbody>\n",
       "</table>\n",
       "</div>"
      ],
      "text/plain": [
       "      word  count\n",
       "0      the  26590\n",
       "1       in  25926\n",
       "2        a  21815\n",
       "3      and  20197\n",
       "4       of  16369\n",
       "5       to  12655\n",
       "6    light  11451\n",
       "7   lights  11205\n",
       "8     over  10674\n",
       "9        I  10473\n",
       "10  object   9520\n",
       "11     was   9208\n",
       "12     sky   8652\n",
       "13      at   8180\n",
       "14    with   7847\n",
       "15  moving   6694\n",
       "16  bright   6627\n",
       "17      on   6567\n",
       "18    then   5653\n",
       "19    from   5624"
      ]
     },
     "execution_count": 46,
     "metadata": {},
     "output_type": "execute_result"
    }
   ],
   "source": [
    "from collections import Counter\n",
    "\n",
    "pd.DataFrame(Counter(comments_split).most_common(), columns = ['word', 'count']).head(20) # to df to limit GitHub page space"
   ]
  },
  {
   "cell_type": "markdown",
   "id": "b315a7fe",
   "metadata": {},
   "source": [
    "Exported the `ufo_us` DataFrame to be used in the data visualization.\n",
    "\n",
    "[Tableau Dashboard](https://public.tableau.com/views/UFOSightings_16689701565220/Dashboard1?:language=en-US&publish=yes&:display_count=n&:origin=viz_share_link)"
   ]
  },
  {
   "cell_type": "code",
   "execution_count": 39,
   "id": "d46eb627",
   "metadata": {},
   "outputs": [],
   "source": [
    "ufo_us.to_csv('ufo_sightings_clean.csv')"
   ]
  }
 ],
 "metadata": {
  "kernelspec": {
   "display_name": "Python 3 (ipykernel)",
   "language": "python",
   "name": "python3"
  },
  "language_info": {
   "codemirror_mode": {
    "name": "ipython",
    "version": 3
   },
   "file_extension": ".py",
   "mimetype": "text/x-python",
   "name": "python",
   "nbconvert_exporter": "python",
   "pygments_lexer": "ipython3",
   "version": "3.9.12"
  }
 },
 "nbformat": 4,
 "nbformat_minor": 5
}
